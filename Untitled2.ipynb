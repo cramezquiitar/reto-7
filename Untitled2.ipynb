{
  "nbformat": 4,
  "nbformat_minor": 0,
  "metadata": {
    "colab": {
      "provenance": [],
      "authorship_tag": "ABX9TyNqgE1wJ7fowUeUEo+RrHGQ",
      "include_colab_link": true
    },
    "kernelspec": {
      "name": "python3",
      "display_name": "Python 3"
    },
    "language_info": {
      "name": "python"
    }
  },
  "cells": [
    {
      "cell_type": "markdown",
      "metadata": {
        "id": "view-in-github",
        "colab_type": "text"
      },
      "source": [
        "<a href=\"https://colab.research.google.com/github/cramezquiitar/reto-7/blob/main/Untitled2.ipynb\" target=\"_parent\"><img src=\"https://colab.research.google.com/assets/colab-badge.svg\" alt=\"Open In Colab\"/></a>"
      ]
    },
    {
      "cell_type": "markdown",
      "source": [
        "Imprimir un listado con los números del 1 al 100 cada uno con su respectivo cuadrado."
      ],
      "metadata": {
        "id": "i7BnaQuUw3P9"
      }
    },
    {
      "cell_type": "code",
      "source": [
        "# hacer un listado con los números del 1 al 100, cada uno con su respectivo cuadrado\n",
        "for n in range(1, 101):  # Creamos el bucle con el for en el rango de 1 hasta 101 sin incluir este ultimo\n",
        "    print(\"El cuadrado de \" + str(n) + \" es \" + str(n**2))  # Imprimimos el numero con su respectivo cuadrado"
      ],
      "metadata": {
        "id": "WR1N73V4w4rx"
      },
      "execution_count": null,
      "outputs": []
    },
    {
      "cell_type": "markdown",
      "source": [
        "Imprimir un listado con los números impares desde 1 hasta 999 y seguidamente otro listado con los números pares desde 2 hasta 1000."
      ],
      "metadata": {
        "id": "W6KFTiCfxIpH"
      }
    },
    {
      "cell_type": "code",
      "source": [
        "# Imprimir los números impares desde 1 hasta 999\n",
        "for n in range(1, 1000):  # Recorremos del 1 al 999\n",
        "    if n % 2 != 0:  # Verificamos si el número es impar\n",
        "        print(n)  # Imprimimos los impares\n",
        "\n",
        "# Imprimir los números pares desde 2 hasta 1000\n",
        "for n in range(2, 1001):  # Recorremos del 2 al 1000\n",
        "    if n % 2 == 0:  # Verificamos si el número es par\n",
        "        print(n)  # Imprimimos los pares"
      ],
      "metadata": {
        "id": "dQ1hgO8yxJAy"
      },
      "execution_count": null,
      "outputs": []
    },
    {
      "cell_type": "markdown",
      "source": [
        "Imprimir los números pares en forma descendente hasta 2 que son menores o iguales a un número natural n ≥ 2 dado"
      ],
      "metadata": {
        "id": "rNcmdAl6x_vR"
      }
    },
    {
      "cell_type": "code",
      "source": [
        "# Imprimir números pares descendentes desde n hasta 2\n",
        "\n",
        "n = int(input(\"Ingrese un número entero mayor o igual a 2: \"))  # Solicita un número\n",
        "\n",
        "if n < 2:\n",
        "    print(\"El número debe ser mayor o igual a 2.\")  # Mensaje de error\n",
        "else:\n",
        "    if n % 2 != 0:  # Si es impar, bajamos al par más cercano\n",
        "        n -= 1\n",
        "\n",
        "    for i in range(n, 1, -2):  # Recorremos en pasos de -2\n",
        "        print(i)  # Imprimir el número par"
      ],
      "metadata": {
        "id": "Fel4i75hyAQg"
      },
      "execution_count": null,
      "outputs": []
    },
    {
      "cell_type": "markdown",
      "source": [
        "Imprimir los números de 1 hasta un número natural n dado, cada uno con su respectivo factorial"
      ],
      "metadata": {
        "id": "pKjRPNS0ybYw"
      }
    },
    {
      "cell_type": "code",
      "source": [
        "# Imprimir los números del 1 hasta un número natural n dado, cada uno con su respectivo factorial\n",
        "\n",
        "n = int(input(\"Ingrese un número natural: \"))  # Pedimos un número natural\n",
        "\n",
        "for i in range(1, n + 1):  # Creamos el rango desde 1 hasta n (incluyéndolo)\n",
        "\n",
        "    factorial = 1  # Inicializamos el factorial en 1 para cada número i\n",
        "\n",
        "    for j in range(1, i + 1):  # Bucle interno para calcular el factorial de i\n",
        "        factorial *= j  # Multiplicamos j en cada iteración para obtener el factorial\n",
        "\n",
        "    print(str(i) + \"! = \" + str(facto))  # Imprimimos el número con su factorial\n"
      ],
      "metadata": {
        "id": "sgAY4Xv0ybtR"
      },
      "execution_count": null,
      "outputs": []
    },
    {
      "cell_type": "markdown",
      "source": [
        "Calcular el valor de 2 elevado a la potencia n usando ciclos for."
      ],
      "metadata": {
        "id": "T6RNXeTJzFTB"
      }
    },
    {
      "cell_type": "code",
      "source": [
        "# Calcular el valor de 2 elevado a la potencia n usando ciclos for\n",
        "\n",
        "n = int(input(\"Ingrese un número entero que no sea negativo: \"))  # Pedimos un número entero no negativo\n",
        "\n",
        "resultado = 1  # Iniciamos el resultado en 1 (ya que cualquier número elevado a 0 es 1)\n",
        "\n",
        "for i in range(n):  # Multiplicamos 2 por sí mismo n veces\n",
        "    resultado *= 2\n",
        "\n",
        "print(\"2 elevado a la\", n, \"es:\", resultado)  # Imprimimos el resultado"
      ],
      "metadata": {
        "id": "DttRJAaCzFiC"
      },
      "execution_count": null,
      "outputs": []
    },
    {
      "cell_type": "markdown",
      "source": [
        "Leer un número natural n, leer otro dato de tipo real x y calcular x^n usando ciclos for. Disclaimer: Trate de no utilizar el operador de potencia (**)."
      ],
      "metadata": {
        "id": "TlXVbyeyzgPO"
      }
    },
    {
      "cell_type": "code",
      "source": [
        "# Leer un número natural n y un número real x, y calcular x^n usando ciclos for (sin usar el operador **)\n",
        "\n",
        "n = int(input(\"Ingrese un número natural mayor o igual a 0: \"))  # Pedimos que ingresen un número natural\n",
        "\n",
        "x = float(input(\"Ingrese un número real x: \"))  # Pedimos que ingresen un número real\n",
        "\n",
        "resultado = 1.0  # Inicializamos el resultado en 1.0 como número flotante\n",
        "\n",
        "# Multiplicamos x por sí mismo n veces\n",
        "for i in range(n):\n",
        "    resultado *= x\n",
        "\n",
        "print(x, \"elevado a la\", n, \"es:\", resultado)  # Imprimimos el resultado final\n"
      ],
      "metadata": {
        "id": "SYsidRoNzgjU"
      },
      "execution_count": null,
      "outputs": []
    },
    {
      "cell_type": "markdown",
      "source": [
        "Diseñe un programa que muestre las tablas de multiplicar del 1 al 9."
      ],
      "metadata": {
        "id": "5OjVCcskz2UW"
      }
    },
    {
      "cell_type": "code",
      "source": [
        "# Diseñe un programa que muestre las tablas de multiplicar del 1 al 9\n",
        "\n",
        "for i in range(1, 10):  # Recorremos los números del 1 al 9 para generar cada tabla\n",
        "    print(\"Tabla del \" + str(i) + \":\")  # Imprimimos el encabezado de cada tabla\n",
        "\n",
        "    for h in range(1, 11):  # Recorremos del 1 al 10 para cada multiplicación de la tabla\n",
        "        resultado = i * h  # Calculamos el resultado\n",
        "        print(str(i) + \" x \" + str(h) + \" = \" + str(resultado))  # Mostramos la multiplicación\n",
        "\n",
        "    print(\"------------\")  # Línea divisoria entre tablas\n"
      ],
      "metadata": {
        "id": "r0UdopnIz2l8"
      },
      "execution_count": null,
      "outputs": []
    },
    {
      "cell_type": "markdown",
      "source": [
        "Diseñar una función que permita calcular una aproximación de la función exponencial alrededor de 0 para cualquier valor x (real), utilizando los primeros n términos de la serie de Taylor. **Nota:** use *math* para traer la función exponencial y mostrar la diferencia entre el valor real y la aproximación.\n",
        "$$e^x \\approx exp(x,n) \\approx \\sum_{i=0}^{n}\\frac{x^i}{i!}$$"
      ],
      "metadata": {
        "id": "AyXjJ6vP0KAM"
      }
    },
    {
      "cell_type": "code",
      "source": [
        "import math\n",
        "\n",
        "def aproximar_exp(x: float, n: int) -> float:\n",
        "    # Calcula una aproximación de e^x usando la serie de Taylor con n términos\n",
        "    resultado = 0  # Iniciamos la suma acumulada en 0\n",
        "\n",
        "    for i in range(n + 1):  # Recorremos desde i = 0 hasta n\n",
        "        resultado += (x ** i) / math.factorial(i)  # Sumamos cada término de la serie\n",
        "\n",
        "    return resultado  # Retornamos la suma total\n",
        "\n",
        "# Solicitar valores\n",
        "x = float(input(\"Ingrese el valor de x: \"))  # Valor de entrada x\n",
        "n = int(input(\"Ingrese el número de términos n: \"))  # Cantidad de términos de la serie\n",
        "\n",
        "# Cálculos\n",
        "aproximacion = aproximar_exp(x, n)  # Aproximación de e^x\n",
        "valor_real = math.exp(x)  # Valor real de e^x con math.exp\n",
        "diferencia = abs(valor_real - aproximacion)  # Error absoluto\n",
        "\n",
        "# respuestas\n",
        "print(\"Aproximación:\", aproximacion)\n",
        "print(\"Valor real:\", valor_real)\n",
        "print(\"Diferencia:\", diferencia)\n"
      ],
      "metadata": {
        "id": "IIfMK8VE0KYc"
      },
      "execution_count": null,
      "outputs": []
    },
    {
      "cell_type": "markdown",
      "source": [
        "Diseñar una función que permita calcular una aproximación de la función seno alrededor de 0 para cualquier valor x (real), utilizando los primeros n términos de la serie de Maclaurin. **Nota:** use *math* para traer la función seno y mostrar la diferencia entre el valor real y la aproximación.\n",
        "$$sin(x) \\approx sin(x,n) \\approx \\sum_{i=0}^{n} (-1)^i \\frac{x^{2i+1}}{(2i+1)!}$$\n"
      ],
      "metadata": {
        "id": "zRsDsaCi0kSj"
      }
    },
    {
      "cell_type": "code",
      "source": [
        "import math\n",
        "\n",
        "def aproximar_seno(x: float, n: int) -> float:\n",
        "    # Calcula una aproximación de sin(x) usando la serie de Maclaurin\n",
        "    resultado = 0  # Inicializamos el resultado en 0\n",
        "\n",
        "    for i in range(n + 1):  # Recorremos desde 0 hasta n\n",
        "        signo = (-1) ** i  # Alternamos el signo: +, -, +, ...\n",
        "        numerador = x ** (2 * i + 1)  # Potencia impar de x\n",
        "        denominador = math.factorial(2 * i + 1)  # Factorial correspondiente\n",
        "        resultado += signo * (numerador / denominador)  # Sumamos el término\n",
        "\n",
        "    return resultado  # Retornamos la suma total\n",
        "\n",
        "# Solicitamos los valores\n",
        "x = float(input(\"Ingrese el valor de x (en radianes): \"))\n",
        "n = int(input(\"Ingrese el número de términos n: \"))\n",
        "\n",
        "# Cálculos\n",
        "aproximacion = aproximar_seno(x, n)\n",
        "valor_real = math.sin(x)\n",
        "diferencia = abs(valor_real - aproximacion)\n",
        "\n",
        "# Mostrar respuestas\n",
        "print(\"Aproximación:\", aproximacion)\n",
        "print(\"Valor real:\", valor_real)\n",
        "print(\"Diferencia:\", diferencia)\n"
      ],
      "metadata": {
        "id": "in6wZfOs0kwF"
      },
      "execution_count": null,
      "outputs": []
    }
  ]
}